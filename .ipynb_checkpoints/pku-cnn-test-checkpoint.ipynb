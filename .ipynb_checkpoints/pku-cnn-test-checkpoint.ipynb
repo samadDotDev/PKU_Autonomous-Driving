{
 "cells": [
  {
   "cell_type": "code",
   "execution_count": 1,
   "metadata": {
    "_cell_guid": "b1076dfc-b9ad-4769-8c92-a6c4dae69d19",
    "_uuid": "8f2839f25d086af736a60e9eeb907d3b93b6e0e5"
   },
   "outputs": [
    {
     "name": "stderr",
     "output_type": "stream",
     "text": [
      "/home/csgrads/samad028/anaconda3/envs/py37/lib/python3.7/site-packages/tensorflow/python/framework/dtypes.py:516: FutureWarning: Passing (type, 1) or '1type' as a synonym of type is deprecated; in a future version of numpy, it will be understood as (type, (1,)) / '(1,)type'.\n",
      "  _np_qint8 = np.dtype([(\"qint8\", np.int8, 1)])\n",
      "/home/csgrads/samad028/anaconda3/envs/py37/lib/python3.7/site-packages/tensorflow/python/framework/dtypes.py:517: FutureWarning: Passing (type, 1) or '1type' as a synonym of type is deprecated; in a future version of numpy, it will be understood as (type, (1,)) / '(1,)type'.\n",
      "  _np_quint8 = np.dtype([(\"quint8\", np.uint8, 1)])\n",
      "/home/csgrads/samad028/anaconda3/envs/py37/lib/python3.7/site-packages/tensorflow/python/framework/dtypes.py:518: FutureWarning: Passing (type, 1) or '1type' as a synonym of type is deprecated; in a future version of numpy, it will be understood as (type, (1,)) / '(1,)type'.\n",
      "  _np_qint16 = np.dtype([(\"qint16\", np.int16, 1)])\n",
      "/home/csgrads/samad028/anaconda3/envs/py37/lib/python3.7/site-packages/tensorflow/python/framework/dtypes.py:519: FutureWarning: Passing (type, 1) or '1type' as a synonym of type is deprecated; in a future version of numpy, it will be understood as (type, (1,)) / '(1,)type'.\n",
      "  _np_quint16 = np.dtype([(\"quint16\", np.uint16, 1)])\n",
      "/home/csgrads/samad028/anaconda3/envs/py37/lib/python3.7/site-packages/tensorflow/python/framework/dtypes.py:520: FutureWarning: Passing (type, 1) or '1type' as a synonym of type is deprecated; in a future version of numpy, it will be understood as (type, (1,)) / '(1,)type'.\n",
      "  _np_qint32 = np.dtype([(\"qint32\", np.int32, 1)])\n",
      "/home/csgrads/samad028/anaconda3/envs/py37/lib/python3.7/site-packages/tensorflow/python/framework/dtypes.py:525: FutureWarning: Passing (type, 1) or '1type' as a synonym of type is deprecated; in a future version of numpy, it will be understood as (type, (1,)) / '(1,)type'.\n",
      "  np_resource = np.dtype([(\"resource\", np.ubyte, 1)])\n",
      "/home/csgrads/samad028/anaconda3/envs/py37/lib/python3.7/site-packages/tensorboard/compat/tensorflow_stub/dtypes.py:541: FutureWarning: Passing (type, 1) or '1type' as a synonym of type is deprecated; in a future version of numpy, it will be understood as (type, (1,)) / '(1,)type'.\n",
      "  _np_qint8 = np.dtype([(\"qint8\", np.int8, 1)])\n",
      "/home/csgrads/samad028/anaconda3/envs/py37/lib/python3.7/site-packages/tensorboard/compat/tensorflow_stub/dtypes.py:542: FutureWarning: Passing (type, 1) or '1type' as a synonym of type is deprecated; in a future version of numpy, it will be understood as (type, (1,)) / '(1,)type'.\n",
      "  _np_quint8 = np.dtype([(\"quint8\", np.uint8, 1)])\n",
      "/home/csgrads/samad028/anaconda3/envs/py37/lib/python3.7/site-packages/tensorboard/compat/tensorflow_stub/dtypes.py:543: FutureWarning: Passing (type, 1) or '1type' as a synonym of type is deprecated; in a future version of numpy, it will be understood as (type, (1,)) / '(1,)type'.\n",
      "  _np_qint16 = np.dtype([(\"qint16\", np.int16, 1)])\n",
      "/home/csgrads/samad028/anaconda3/envs/py37/lib/python3.7/site-packages/tensorboard/compat/tensorflow_stub/dtypes.py:544: FutureWarning: Passing (type, 1) or '1type' as a synonym of type is deprecated; in a future version of numpy, it will be understood as (type, (1,)) / '(1,)type'.\n",
      "  _np_quint16 = np.dtype([(\"quint16\", np.uint16, 1)])\n",
      "/home/csgrads/samad028/anaconda3/envs/py37/lib/python3.7/site-packages/tensorboard/compat/tensorflow_stub/dtypes.py:545: FutureWarning: Passing (type, 1) or '1type' as a synonym of type is deprecated; in a future version of numpy, it will be understood as (type, (1,)) / '(1,)type'.\n",
      "  _np_qint32 = np.dtype([(\"qint32\", np.int32, 1)])\n",
      "/home/csgrads/samad028/anaconda3/envs/py37/lib/python3.7/site-packages/tensorboard/compat/tensorflow_stub/dtypes.py:550: FutureWarning: Passing (type, 1) or '1type' as a synonym of type is deprecated; in a future version of numpy, it will be understood as (type, (1,)) / '(1,)type'.\n",
      "  np_resource = np.dtype([(\"resource\", np.ubyte, 1)])\n",
      "Using TensorFlow backend.\n"
     ]
    }
   ],
   "source": [
    "# This Python 3 environment comes with many helpful analytics libraries installed\n",
    "# It is defined by the kaggle/python docker image: https://github.com/kaggle/docker-python\n",
    "# For example, here's several helpful packages to load in \n",
    "\n",
    "import numpy as np # linear algebra\n",
    "import pandas as pd # data processing, CSV file I/O (e.g. pd.read_csv)\n",
    "import cv2\n",
    "import matplotlib\n",
    "import matplotlib.pyplot as plt\n",
    "import matplotlib.patches as patches\n",
    "from matplotlib.patches import Polygon\n",
    "from matplotlib.collections import PatchCollection\n",
    "\n",
    "from IPython.display import clear_output\n",
    "from sklearn import preprocessing\n",
    "\n",
    "from tensorflow.keras import datasets, layers, models\n",
    "from tensorflow.keras.models import Sequential\n",
    "from tensorflow.keras.layers import Dense, Conv2D, Flatten, Dropout, MaxPooling2D\n",
    "from tensorflow.keras.preprocessing.image import ImageDataGenerator\n",
    "\n",
    "# example of converting an image with the Keras API\n",
    "from keras.preprocessing.image import load_img\n",
    "from keras.preprocessing.image import img_to_array\n",
    "from keras.models import load_model\n",
    "\n",
    "from tensorflow.keras.initializers import glorot_uniform\n",
    "import tensorflow as tf\n",
    "\n",
    "# Input data files are available in the \"../input/\" directory.\n",
    "# For example, running this (by clicking run or pressing Shift+Enter) will list all files under the input directory\n",
    "\n",
    "import os"
   ]
  },
  {
   "cell_type": "code",
   "execution_count": 2,
   "metadata": {},
   "outputs": [
    {
     "data": {
      "text/plain": [
       "['test_images',\n",
       " 'train_masks.zip',\n",
       " 'train_images.zip',\n",
       " 'car_models',\n",
       " '.ipynb_checkpoints',\n",
       " 'car_models_json.zip',\n",
       " 'personal',\n",
       " 'car_models.zip',\n",
       " 'test_masks',\n",
       " 'train.csv',\n",
       " 'train_images',\n",
       " 'test_images.zip',\n",
       " 'train_masks',\n",
       " 'camera.zip',\n",
       " 'sample_submission.csv',\n",
       " 'car_models_json',\n",
       " 'test_masks.zip',\n",
       " 'camera']"
      ]
     },
     "execution_count": 2,
     "metadata": {},
     "output_type": "execute_result"
    }
   ],
   "source": [
    "%run paths.py # Load all our paths\n",
    "%run methods.py # Load all our methods\n",
    "\n",
    "MODEL_FILE = 'model_cnn_data-1000000_epochs-100'\n",
    "PREDICTION_MODEL = os.path.join(MODELS_DIR, MODEL_FILE+'.h5')\n",
    "\n",
    "os.listdir(DATASET_DIR)"
   ]
  },
  {
   "cell_type": "code",
   "execution_count": 7,
   "metadata": {},
   "outputs": [],
   "source": [
    "def test_images_on_dir(model_h5=PREDICTION_MODEL,images_dir=TEST_IMAGES_DIR,masks_dir=None):\n",
    "\n",
    "    model = tf.keras.models.load_model(model_h5,custom_objects={'GlorotUniform': glorot_uniform()})\n",
    "    \n",
    "    testImageIds = os.listdir(images_dir)\n",
    "\n",
    "    PredictionString = dict()\n",
    "    detection_probability = 50\n",
    "    totalFiles = len(testImageIds)\n",
    "\n",
    "    for count,ImageIdWithJPG in enumerate(testImageIds):\n",
    "\n",
    "        ImageId = ImageIdWithJPG.replace(\".jpg\",\"\")\n",
    "        \n",
    "        img_path = os.path.join(images_dir, ImageIdWithJPG)\n",
    "        \n",
    "        if masks_dir is not None:\n",
    "            mask_path = os.path.join(masks_dir, '{}.{}'.format(ImageId, 'jpg'))\n",
    "        else:\n",
    "            mask_path = None\n",
    "        \n",
    "        image = open_image_preprocessed(img_path,hide_own_bonnet=True,mask_path=mask_path)\n",
    "        detector = detector_imageai(\"yolo\")\n",
    "\n",
    "        returned_results = detector.detectCustomObjectsFromImage(\n",
    "            custom_objects=detector.CustomObjects(car=True),\n",
    "            input_image=image, \n",
    "            input_type=\"array\",\n",
    "            output_image_path=os.path.join(DETECTIONS_DIR , \"test/\"+ImageId+\".jpg\"),\n",
    "            minimum_percentage_probability=detection_probability,\n",
    "            extract_detected_objects=True)\n",
    "\n",
    "        detections, objects_path = returned_results\n",
    "\n",
    "        PredictionString[ImageId] = \"\"\n",
    "\n",
    "        eachCarString = []\n",
    "\n",
    "        for eachObject, eachObjectPath in zip(detections, objects_path):\n",
    "            ImageIdSubId = ImageId+\"-\"+str(eachObjectPath.split(\"objects/\")[1].split(\".\")[0].split(\"-\")[1])\n",
    "\n",
    "            det = eachObject[\"box_points\"]\n",
    "            x1, y1, x2, y2 = det[0], det[1], det[2], det[3]\n",
    "            extra_inputs = [x1, y1, x2, y2]\n",
    "            temp_array = format_inputs_appended_with_image(ImageIdSubId,extra_inputs,'test')\n",
    "            temp_array = np.array([temp_array])\n",
    "\n",
    "            confidence = eachObject[\"percentage_probability\"]/100\n",
    "\n",
    "            xyz_ypr = model.predict(temp_array).flatten()\n",
    "\n",
    "            x,y,z,yaw,pitch,roll = xyz_ypr[0],xyz_ypr[1],xyz_ypr[2],xyz_ypr[3],xyz_ypr[4],xyz_ypr[5]\n",
    "\n",
    "            output_format_list = [yaw, pitch, roll, x, y, z, confidence]\n",
    "\n",
    "            # Round off 2 decimal places\n",
    "            output_format_list = [ round(elem, 2) for elem in output_format_list ]\n",
    "\n",
    "            output_format_str = \" \".join(map(str,output_format_list))\n",
    "\n",
    "            eachCarString.append(output_format_str)\n",
    "            #print(output_format_str)\n",
    "\n",
    "        PredictionString[ImageId] = \" \".join(eachCarString)\n",
    "\n",
    "        #print(PredictionString[ImageId])\n",
    "\n",
    "        clear_output(wait=True)\n",
    "        print(f\"{count+1}/{totalFiles} Completed. Just tested Image: {ImageId}\")\n",
    "\n",
    "        \"\"\"if count>1:\n",
    "            break\"\"\"\n",
    "\n",
    "    submission = []\n",
    "    for key,value in PredictionString.items():\n",
    "        sub=dict()\n",
    "        sub[\"ImageId\"] = key\n",
    "        sub[\"PredictionString\"] = value\n",
    "        submission.append(sub)\n",
    "\n",
    "    df_submission = pd.DataFrame(submission)\n",
    "    return df_submission"
   ]
  },
  {
   "cell_type": "code",
   "execution_count": 8,
   "metadata": {},
   "outputs": [
    {
     "name": "stdout",
     "output_type": "stream",
     "text": [
      "3/2021 Completed. Just tested Image: ID_17b7c91d1\n"
     ]
    },
    {
     "data": {
      "text/html": [
       "<div>\n",
       "<style scoped>\n",
       "    .dataframe tbody tr th:only-of-type {\n",
       "        vertical-align: middle;\n",
       "    }\n",
       "\n",
       "    .dataframe tbody tr th {\n",
       "        vertical-align: top;\n",
       "    }\n",
       "\n",
       "    .dataframe thead th {\n",
       "        text-align: right;\n",
       "    }\n",
       "</style>\n",
       "<table border=\"1\" class=\"dataframe\">\n",
       "  <thead>\n",
       "    <tr style=\"text-align: right;\">\n",
       "      <th></th>\n",
       "      <th>ImageId</th>\n",
       "      <th>PredictionString</th>\n",
       "    </tr>\n",
       "  </thead>\n",
       "  <tbody>\n",
       "    <tr>\n",
       "      <th>0</th>\n",
       "      <td>ID_37377a64b</td>\n",
       "      <td>0.12 1.69 -2.4 -3.76 11.28 64.17 0.57 0.15 -0....</td>\n",
       "    </tr>\n",
       "    <tr>\n",
       "      <th>1</th>\n",
       "      <td>ID_fff387961</td>\n",
       "      <td>0.1 -1.94 -6.27 2.08 11.8 56.43 0.65 0.15 0.93...</td>\n",
       "    </tr>\n",
       "    <tr>\n",
       "      <th>2</th>\n",
       "      <td>ID_17b7c91d1</td>\n",
       "      <td>0.16 0.4 -3.46 -23.23 6.64 41.07 0.57 0.16 0.0...</td>\n",
       "    </tr>\n",
       "  </tbody>\n",
       "</table>\n",
       "</div>"
      ],
      "text/plain": [
       "        ImageId                                   PredictionString\n",
       "0  ID_37377a64b  0.12 1.69 -2.4 -3.76 11.28 64.17 0.57 0.15 -0....\n",
       "1  ID_fff387961  0.1 -1.94 -6.27 2.08 11.8 56.43 0.65 0.15 0.93...\n",
       "2  ID_17b7c91d1  0.16 0.4 -3.46 -23.23 6.64 41.07 0.57 0.16 0.0..."
      ]
     },
     "metadata": {},
     "output_type": "display_data"
    }
   ],
   "source": [
    "model_h5 = PREDICTION_MODEL # Our model's h5 file\n",
    "images_dir = TEST_IMAGES_DIR # Directory in which images are present for test\n",
    "masks_dir = os.path.join(DATASET_DIR, 'test_masks') # Binary masks directory if present, set None otherwise\n",
    "\n",
    "df_submission = test_images_on_dir(model_h5=model_h5,images_dir=images_dir,masks_dir=masks_dir)\n",
    "\n",
    "df_submission.to_csv(os.path.join(SUBMISSION_DIR, f\"submission_rows-{count}_model-{MODEL_FILE}.csv\"),index=False)\n",
    "display(df_submission)"
   ]
  },
  {
   "cell_type": "code",
   "execution_count": 10,
   "metadata": {},
   "outputs": [
    {
     "name": "stdout",
     "output_type": "stream",
     "text": [
      "2/2 Completed. Just tested Image: frame312\n"
     ]
    },
    {
     "data": {
      "text/html": [
       "<div>\n",
       "<style scoped>\n",
       "    .dataframe tbody tr th:only-of-type {\n",
       "        vertical-align: middle;\n",
       "    }\n",
       "\n",
       "    .dataframe tbody tr th {\n",
       "        vertical-align: top;\n",
       "    }\n",
       "\n",
       "    .dataframe thead th {\n",
       "        text-align: right;\n",
       "    }\n",
       "</style>\n",
       "<table border=\"1\" class=\"dataframe\">\n",
       "  <thead>\n",
       "    <tr style=\"text-align: right;\">\n",
       "      <th></th>\n",
       "      <th>ImageId</th>\n",
       "      <th>PredictionString</th>\n",
       "    </tr>\n",
       "  </thead>\n",
       "  <tbody>\n",
       "    <tr>\n",
       "      <th>0</th>\n",
       "      <td>frame79</td>\n",
       "      <td>0.14 1.05 -1.56 3.81 5.68 19.17 0.55 0.12 -3.6...</td>\n",
       "    </tr>\n",
       "    <tr>\n",
       "      <th>1</th>\n",
       "      <td>frame312</td>\n",
       "      <td>0.14 -0.06 -4.06 -3.0 9.16 48.46 0.68 0.13 1.4...</td>\n",
       "    </tr>\n",
       "  </tbody>\n",
       "</table>\n",
       "</div>"
      ],
      "text/plain": [
       "    ImageId                                   PredictionString\n",
       "0   frame79  0.14 1.05 -1.56 3.81 5.68 19.17 0.55 0.12 -3.6...\n",
       "1  frame312  0.14 -0.06 -4.06 -3.0 9.16 48.46 0.68 0.13 1.4..."
      ]
     },
     "metadata": {},
     "output_type": "display_data"
    }
   ],
   "source": [
    "MODEL_FILE = 'model_cnn_data-1000000_epochs-100'\n",
    "PREDICTION_MODEL = os.path.join(MODELS_DIR, MODEL_FILE+'.h5')\n",
    "\n",
    "model_h5 = PREDICTION_MODEL # Our model's h5 file\n",
    "images_dir =  os.path.join(DATASET_DIR, 'personal/') # Directory in which images are present for test\n",
    "masks_dir = None # Binary masks directory if present, set None otherwise\n",
    "\n",
    "df_submission = test_images_on_dir(model_h5=model_h5,images_dir=images_dir,masks_dir=masks_dir)\n",
    "\n",
    "df_submission.to_csv(os.path.join(SUBMISSION_DIR, f\"submission_rows-{len(df_submission.index)}_model-{MODEL_FILE}.csv\"),index=False)\n",
    "display(df_submission)"
   ]
  },
  {
   "cell_type": "code",
   "execution_count": null,
   "metadata": {},
   "outputs": [],
   "source": []
  }
 ],
 "metadata": {
  "kernelspec": {
   "display_name": "Python 3",
   "language": "python",
   "name": "python3"
  },
  "language_info": {
   "codemirror_mode": {
    "name": "ipython",
    "version": 3
   },
   "file_extension": ".py",
   "mimetype": "text/x-python",
   "name": "python",
   "nbconvert_exporter": "python",
   "pygments_lexer": "ipython3",
   "version": "3.7.5"
  }
 },
 "nbformat": 4,
 "nbformat_minor": 1
}
